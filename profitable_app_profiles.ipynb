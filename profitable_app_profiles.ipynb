{
 "cells": [
  {
   "cell_type": "markdown",
   "id": "bebeb7a7-4ac2-4ef7-9e35-5781478711a5",
   "metadata": {},
   "source": [
    "# Guided project: Profitable App Profiles for the App Store and Google Play Markets\n",
    "\n",
    "# Table of contents\n",
    "\n",
    "[Introduction](#Introduction-*)\n",
    "\n",
    "* [Exploring two datasets](#Exploring-two-datasets-*)\n",
    "* [Getting the column names](#Getting-the-column-names-*)\n",
    "\n",
    "[Data Cleaning](#Data-Cleaning-*)\n",
    "* [Deleting the errors](#Deleting-the-errors-*)\n",
    "* [Removing duplicates](#Removing-duplicates-*)\n",
    "* [Deleting non-English apps](#Deleting-non-English-apps-*)\n",
    "* [Storing only free apps](#Storing-only-free-apps-*)\n",
    "\n",
    "[Analyzing the data](#Analyzing-the-data-*)\n",
    "* [The aim](#The-aim-*)\n",
    "* [Most common genres](#Most-common-genres-*)\n",
    "* [Number of installations](#Number-of-installations-*)\n",
    "* [Choosing an app](#Choosing-an-app-*)\n",
    "\n",
    "[Conclusions](#Conclusions-*)"
   ]
  },
  {
   "cell_type": "markdown",
   "id": "0ce44552-5188-4647-a6e8-c4b0d0a9462b",
   "metadata": {},
   "source": [
    "## Introduction [*](#Table-of-contents)\n",
    "\n",
    "The project involves building apps for the App Store and Google Play. These apps will be free to download and install, so the primary source of revenue will consist of in-app ads. The main goal is to analyse and understand what types of apps are likely to attract more users."
   ]
  },
  {
   "cell_type": "code",
   "execution_count": 5,
   "id": "fe62f839-d08e-4354-b096-f62bf7f21ca2",
   "metadata": {},
   "outputs": [],
   "source": [
    "opened_file_applestore = open('AppleStore.csv', encoding=\"utf8\")\n",
    "opened_file_googleplaystore = open('googleplaystore.csv', encoding=\"utf8\")\n",
    "\n",
    "from csv import reader\n",
    "read_file_applestore = reader(opened_file_applestore)\n",
    "read_file_googleplaystore = reader(opened_file_googleplaystore)\n",
    "\n",
    "apps_data_applestore = list(read_file_applestore)\n",
    "apps_data_googleplaystore = list(read_file_googleplaystore)\n",
    "\n"
   ]
  },
  {
   "cell_type": "markdown",
   "id": "82451a77-01b9-44a3-95aa-c155e3ff9407",
   "metadata": {},
   "source": [
    "#### Exploring two datasets [*](#Table-of-contents)\n",
    "The code above opens two CSV files: `Applestore.csv` and `googleplaystore.csv`. Using `csv` module we let the computer read those files, which are then converted into **lists**."
   ]
  },
  {
   "cell_type": "code",
   "execution_count": 6,
   "id": "1f360cb1-ce56-41eb-bc35-9baeb7ece759",
   "metadata": {},
   "outputs": [],
   "source": [
    "def explore_data(dataset, start=0, end=1, rows_and_columns=True):\n",
    "    dataset_slice = dataset[start:end]    \n",
    "    for row in dataset_slice:\n",
    "        print(row)\n",
    "        print(\"\\n\")\n",
    "\n",
    "    if rows_and_columns:\n",
    "        print('Number of rows:', len(dataset))\n",
    "        print('Number of columns:', len(dataset[0]))\n",
    "        print(\"\\n\")"
   ]
  },
  {
   "cell_type": "markdown",
   "id": "8c2925ac-10ac-4445-9797-e941ceab2b43",
   "metadata": {},
   "source": [
    "`Explore_data` function prints the table with indicated indexes. It prints out the number of rows and columns as well. Here is an illustration of the first few rows."
   ]
  },
  {
   "cell_type": "code",
   "execution_count": 7,
   "id": "1aa7bba3-29b6-4a5e-8eaa-cd6b133e980b",
   "metadata": {},
   "outputs": [
    {
     "name": "stdout",
     "output_type": "stream",
     "text": [
      "['284882215', 'Facebook', '389879808', 'USD', '0.0', '2974676', '212', '3.5', '3.5', '95.0', '4+', 'Social Networking', '37', '1', '29', '1']\n",
      "\n",
      "\n",
      "['389801252', 'Instagram', '113954816', 'USD', '0.0', '2161558', '1289', '4.5', '4.0', '10.23', '12+', 'Photo & Video', '37', '0', '29', '1']\n",
      "\n",
      "\n",
      "Number of rows: 7198\n",
      "Number of columns: 16\n",
      "\n",
      "\n",
      "['Photo Editor & Candy Camera & Grid & ScrapBook', 'ART_AND_DESIGN', '4.1', '159', '19M', '10,000+', 'Free', '0', 'Everyone', 'Art & Design', 'January 7, 2018', '1.0.0', '4.0.3 and up']\n",
      "\n",
      "\n",
      "['Coloring book moana', 'ART_AND_DESIGN', '3.9', '967', '14M', '500,000+', 'Free', '0', 'Everyone', 'Art & Design;Pretend Play', 'January 15, 2018', '2.0.0', '4.0.3 and up']\n",
      "\n",
      "\n",
      "Number of rows: 10842\n",
      "Number of columns: 13\n",
      "\n",
      "\n"
     ]
    }
   ],
   "source": [
    "explore_data(apps_data_applestore, 1, 3, True)\n",
    "explore_data(apps_data_googleplaystore, 1, 3, True) "
   ]
  },
  {
   "cell_type": "markdown",
   "id": "b18b3f8a-36a7-4061-986c-a0a4c8b8fc33",
   "metadata": {},
   "source": [
    "#### Getting the column names [*](#Table-of-contents)\n",
    "To print the column names, we will do the following:"
   ]
  },
  {
   "cell_type": "code",
   "execution_count": 8,
   "id": "95126fd4-61ee-4832-9c69-bc50e50ec31e",
   "metadata": {},
   "outputs": [
    {
     "name": "stdout",
     "output_type": "stream",
     "text": [
      "['id', 'track_name', 'size_bytes', 'currency', 'price', 'rating_count_tot', 'rating_count_ver', 'user_rating', 'user_rating_ver', 'ver', 'cont_rating', 'prime_genre', 'sup_devices.num', 'ipadSc_urls.num', 'lang.num', 'vpp_lic']\n",
      "\n",
      "\n",
      "Number of rows: 7198\n",
      "Number of columns: 16\n",
      "\n",
      "\n",
      "['App', 'Category', 'Rating', 'Reviews', 'Size', 'Installs', 'Type', 'Price', 'Content Rating', 'Genres', 'Last Updated', 'Current Ver', 'Android Ver']\n",
      "\n",
      "\n",
      "Number of rows: 10842\n",
      "Number of columns: 13\n",
      "\n",
      "\n"
     ]
    }
   ],
   "source": [
    "explore_data(apps_data_applestore)\n",
    "explore_data(apps_data_googleplaystore)"
   ]
  },
  {
   "cell_type": "markdown",
   "id": "1aa08af5-3831-4c6e-82bf-79c254208e04",
   "metadata": {},
   "source": [
    "Looking at the result, it would be a good idea to indicate the common or similar column names that the `Applestore.csv` and `googleplaystore.csv` files have. We can use these columns for our later analysis.\n",
    "\n",
    "**price**, **genres**, **rating**, **reviews**, **version**, **content rating** for instance  "
   ]
  },
  {
   "cell_type": "markdown",
   "id": "8df1c074-6592-4dcc-ac9a-6abaae965e9a",
   "metadata": {},
   "source": [
    "## Data Cleaning [*](#Table-of-contents)\n",
    "\n",
    "#### Deleting the errors [*](#Table-of-contents)\n",
    "We only care about apps that are free to download and designed for an English-speaking audience. The Google Play dataset has a [dedicated discussion](https://www.kaggle.com/datasets/lava18/google-play-store-apps/discussion?sort=undefined) section, and we can see that [one of the discussions](https://www.kaggle.com/datasets/lava18/google-play-store-apps/discussion/66015) describes an error for a certain row (10472). We'll first make sure whether the entry is 10472."
   ]
  },
  {
   "cell_type": "code",
   "execution_count": 9,
   "id": "aae60923-8738-4ee0-8e89-e826483ff79a",
   "metadata": {},
   "outputs": [
    {
     "data": {
      "text/plain": [
       "['Xposed Wi-Fi-Pwd',\n",
       " 'PERSONALIZATION',\n",
       " '3.5',\n",
       " '1042',\n",
       " '404k',\n",
       " '100,000+',\n",
       " 'Free',\n",
       " '0',\n",
       " 'Everyone',\n",
       " 'Personalization',\n",
       " 'August 5, 2014',\n",
       " '3.0.0',\n",
       " '4.0.3 and up']"
      ]
     },
     "execution_count": 9,
     "metadata": {},
     "output_type": "execute_result"
    }
   ],
   "source": [
    "apps_data_googleplaystore[10472]"
   ]
  },
  {
   "cell_type": "code",
   "execution_count": 10,
   "id": "86a5eff7-16bc-4930-b096-a628cbd7060c",
   "metadata": {},
   "outputs": [
    {
     "data": {
      "text/plain": [
       "['Life Made WI-Fi Touchscreen Photo Frame',\n",
       " '1.9',\n",
       " '19',\n",
       " '3.0M',\n",
       " '1,000+',\n",
       " 'Free',\n",
       " '0',\n",
       " 'Everyone',\n",
       " '',\n",
       " 'February 11, 2018',\n",
       " '1.0.19',\n",
       " '4.0 and up']"
      ]
     },
     "execution_count": 10,
     "metadata": {},
     "output_type": "execute_result"
    }
   ],
   "source": [
    "apps_data_googleplaystore[10473]"
   ]
  },
  {
   "cell_type": "markdown",
   "id": "13d954a1-3029-48e7-98d1-00482924bac1",
   "metadata": {},
   "source": [
    "10473rd row **had** an error, so we removed it using the `del` statement."
   ]
  },
  {
   "cell_type": "code",
   "execution_count": 11,
   "id": "d01f8842-9354-48fe-ac83-13cc47c9cf09",
   "metadata": {},
   "outputs": [],
   "source": [
    "del apps_data_googleplaystore[10473]"
   ]
  },
  {
   "cell_type": "markdown",
   "id": "665589fa-e82b-47f6-a230-6fff66b23bc4",
   "metadata": {},
   "source": [
    "We did the same operation on the ****9149th row**** as it was reported by [Sharon Mathys](https://www.kaggle.com/datasets/ramamet4/app-store-apple-data-set-10k-apps/discussion/106176#676953) to have an error."
   ]
  },
  {
   "cell_type": "code",
   "execution_count": 12,
   "id": "a68cd662-5219-47b9-9320-7595142552b1",
   "metadata": {},
   "outputs": [],
   "source": [
    "del apps_data_googleplaystore[9149]"
   ]
  },
  {
   "cell_type": "markdown",
   "id": "b3a931b8-d917-4fc3-a5aa-4e4e04e3f9db",
   "metadata": {},
   "source": [
    "#### Removing duplicates [*](#Table-of-contents)\n",
    "As said earlier Google Play dataset has a [dedicated discussion](https://www.kaggle.com/datasets/lava18/google-play-store-apps/discussion?sort=undefined) section, where it is mentioned that there are duplicate entries. Now our goal will be to remove the duplicates."
   ]
  },
  {
   "cell_type": "markdown",
   "id": "286583f0-e509-415e-9ae9-2960d52ee352",
   "metadata": {},
   "source": [
    "Firstly, let us show that there are duplicate entries with **Instagram** being the example."
   ]
  },
  {
   "cell_type": "code",
   "execution_count": 13,
   "id": "ed37392c-4a2e-4b10-a501-aadad5eb36f1",
   "metadata": {},
   "outputs": [
    {
     "name": "stdout",
     "output_type": "stream",
     "text": [
      "['Instagram', 'SOCIAL', '4.5', '66577313', 'Varies with device', '1,000,000,000+', 'Free', '0', 'Teen', 'Social', 'July 31, 2018', 'Varies with device', 'Varies with device']\n",
      "['Instagram', 'SOCIAL', '4.5', '66577446', 'Varies with device', '1,000,000,000+', 'Free', '0', 'Teen', 'Social', 'July 31, 2018', 'Varies with device', 'Varies with device']\n",
      "['Instagram', 'SOCIAL', '4.5', '66577313', 'Varies with device', '1,000,000,000+', 'Free', '0', 'Teen', 'Social', 'July 31, 2018', 'Varies with device', 'Varies with device']\n",
      "['Instagram', 'SOCIAL', '4.5', '66509917', 'Varies with device', '1,000,000,000+', 'Free', '0', 'Teen', 'Social', 'July 31, 2018', 'Varies with device', 'Varies with device']\n"
     ]
    }
   ],
   "source": [
    "def insta_duplicates():\n",
    "    for app in apps_data_googleplaystore:\n",
    "        name = app[0]\n",
    "        if name == \"Instagram\":\n",
    "            print(app)\n",
    "\n",
    "insta_duplicates()"
   ]
  },
  {
   "cell_type": "markdown",
   "id": "49acfeb5-eae9-4bef-8043-772a9bd989dd",
   "metadata": {},
   "source": [
    "Let us also find the number of duplicates."
   ]
  },
  {
   "cell_type": "code",
   "execution_count": 14,
   "id": "65cfc9e3-8718-490c-8e0a-ee8f10044b3d",
   "metadata": {},
   "outputs": [
    {
     "name": "stdout",
     "output_type": "stream",
     "text": [
      "The number of duplicate apps is 1181\n",
      "\n",
      "Here is a few of them:\n",
      "\n",
      "['Quick PDF Scanner + OCR FREE', 'Box', 'Google My Business', 'ZOOM Cloud Meetings', 'join.me - Simple Meetings', 'Box', 'Zenefits', 'Google Ads', 'Google My Business', 'Slack']\n"
     ]
    }
   ],
   "source": [
    "duplicate_apps = []\n",
    "unique_apps = []\n",
    "\n",
    "for app in apps_data_googleplaystore:\n",
    "    name = app[0]\n",
    "    if name in unique_apps:\n",
    "        duplicate_apps.append(name)\n",
    "    else:\n",
    "        unique_apps.append(name)\n",
    "\n",
    "print(f\"The number of duplicate apps is {len(duplicate_apps)}\", end=\"\\n\\n\")\n",
    "print(\"Here is a few of them:\", end=\"\\n\\n\")\n",
    "print(duplicate_apps[:10])\n"
   ]
  },
  {
   "cell_type": "markdown",
   "id": "114d64e8-7d55-4c30-9c9d-5c78da039b62",
   "metadata": {},
   "source": [
    "Going back to the `insta_duplicates()` function's output, it can be seen that the **4th**(number of reviews) column has different values for the same app. "
   ]
  },
  {
   "cell_type": "code",
   "execution_count": 15,
   "id": "180a4318-4984-4683-abcf-94010112599e",
   "metadata": {},
   "outputs": [
    {
     "name": "stdout",
     "output_type": "stream",
     "text": [
      "['Instagram', 'SOCIAL', '4.5', '66577313', 'Varies with device', '1,000,000,000+', 'Free', '0', 'Teen', 'Social', 'July 31, 2018', 'Varies with device', 'Varies with device']\n",
      "['Instagram', 'SOCIAL', '4.5', '66577446', 'Varies with device', '1,000,000,000+', 'Free', '0', 'Teen', 'Social', 'July 31, 2018', 'Varies with device', 'Varies with device']\n",
      "['Instagram', 'SOCIAL', '4.5', '66577313', 'Varies with device', '1,000,000,000+', 'Free', '0', 'Teen', 'Social', 'July 31, 2018', 'Varies with device', 'Varies with device']\n",
      "['Instagram', 'SOCIAL', '4.5', '66509917', 'Varies with device', '1,000,000,000+', 'Free', '0', 'Teen', 'Social', 'July 31, 2018', 'Varies with device', 'Varies with device']\n"
     ]
    }
   ],
   "source": [
    "insta_duplicates()"
   ]
  },
  {
   "cell_type": "markdown",
   "id": "bc4548f1-bb56-4a96-bd9a-77eafd92aa71",
   "metadata": {},
   "source": [
    "Therefore, it would be better to keep the row with the **highest number of reviews** to show the most *recent* data. "
   ]
  },
  {
   "cell_type": "markdown",
   "id": "7b8bd889-6f88-4c38-b2e4-ffa6db1914b3",
   "metadata": {},
   "source": [
    "We will use dictionaries to remove duplicates where each dictionary key is a **unique app name** (which is not a duplicate) with the coressponsing dictionary value being the **highest number of reviews**."
   ]
  },
  {
   "cell_type": "code",
   "execution_count": 16,
   "id": "587dc361-84f5-4951-8afa-736b1967617e",
   "metadata": {},
   "outputs": [],
   "source": [
    "reviews_max = {}\n",
    "\n",
    "for app in apps_data_googleplaystore[1:]:\n",
    "    name = app[0]\n",
    "    n_reviews = float(app[3])\n",
    "    if name in reviews_max and reviews_max[name] < n_reviews:\n",
    "        reviews_max[name] = n_reviews\n",
    "    elif name not in reviews_max:\n",
    "        reviews_max[name] = n_reviews"
   ]
  },
  {
   "cell_type": "markdown",
   "id": "0f2ab6e0-20d6-4978-a42f-e463b2d0d470",
   "metadata": {},
   "source": [
    "Firstly, we do **not** include the header row. After creating an empty dictionary we check whether the app name already exists in the dictionary or not. If it does not, we store it as a new key with its corresponding key value (`n_reviews`). If it does (which means it is a duplicate), we check the number of reviews and set the highest among them to its corresponding app name. "
   ]
  },
  {
   "cell_type": "code",
   "execution_count": 17,
   "id": "8459d4c9-0770-4db0-bbfb-833b70790fbc",
   "metadata": {},
   "outputs": [
    {
     "data": {
      "text/plain": [
       "9658"
      ]
     },
     "execution_count": 17,
     "metadata": {},
     "output_type": "execute_result"
    }
   ],
   "source": [
    "android_clean = []\n",
    "already_added = []\n",
    "\n",
    "for app in apps_data_googleplaystore[1:]:\n",
    "    name = app[0]\n",
    "    n_reviews = float(app[3])\n",
    "    if n_reviews == reviews_max[name] and name not in already_added:\n",
    "        android_clean.append(app)\n",
    "        already_added.append(name)\n",
    "\n",
    "len(android_clean)"
   ]
  },
  {
   "cell_type": "markdown",
   "id": "d10f73c6-9c2b-4f87-a496-8f10e81e8f18",
   "metadata": {},
   "source": [
    "Now that each app has the highest number of reviews, let us get rid of duplicates. The code loops through the original dataset (`apps_data_googleplaystore`) and separates the name of the app and number of reviews. Since `reviews_max` dictionary already stores the highest number of reviews, the program has to check for the names to match. It will also store the names of the apps. Why do we do this? Some apps have the exact highest number of reviews so if we do not check `name not in already_added` condition then in `android_clean` list there would be duplicate apps with the same highest number of reviews."
   ]
  },
  {
   "cell_type": "markdown",
   "id": "9ac1f5cc-ade3-4df6-a506-3a6cc939c6f9",
   "metadata": {},
   "source": [
    "#### Deleting non-English apps [*](#Table-of-contents)\n",
    "Our next step will be to get rid of non-English apps in both datasets. As you may or may not know, each character used in a string has a corresponding number. We can get that number using `ord()` function"
   ]
  },
  {
   "cell_type": "code",
   "execution_count": 18,
   "id": "0141748d-70f1-4a6a-bc21-685a5e350a36",
   "metadata": {},
   "outputs": [
    {
     "name": "stdout",
     "output_type": "stream",
     "text": [
      "71\n",
      "56\n",
      "125\n"
     ]
    }
   ],
   "source": [
    "print(ord(\"G\"))\n",
    "print(ord(\"8\"))\n",
    "print(ord(\"}\"))"
   ]
  },
  {
   "cell_type": "markdown",
   "id": "97fd07c6-8d71-40f2-a1ba-02305a6d7bd6",
   "metadata": {},
   "source": [
    "According to the **[ASCI](https://en.wikipedia.org/wiki/ASCII)** (American Standard Code for Information Interchange), characters in an English text have values between `0` and `127`. So if a character's associated number is greater than `127`, it is not an English character."
   ]
  },
  {
   "cell_type": "code",
   "execution_count": 19,
   "id": "c7931366-54de-44a7-b3e8-52dc580f3dcd",
   "metadata": {},
   "outputs": [
    {
     "name": "stdout",
     "output_type": "stream",
     "text": [
      "True\n",
      "False\n",
      "True\n",
      "True\n"
     ]
    }
   ],
   "source": [
    "def is_english(text):\n",
    "    wrong_character_count = 0 \n",
    "    for character in text:\n",
    "        if ord(character) > 127:\n",
    "            wrong_character_count += 1\n",
    "            if wrong_character_count > 3:\n",
    "                return False\n",
    "    else:\n",
    "        return True\n",
    "\n",
    "print(is_english('Instagram'))\n",
    "print(is_english('爱奇艺PPS -《欢乐颂2》电视剧热播'))\n",
    "print(is_english('Docs To Go™ Free Office Suite'))\n",
    "print(is_english('Instachat 😜'))\n"
   ]
  },
  {
   "cell_type": "markdown",
   "id": "b7925b69-7538-421a-a1db-9376e706da84",
   "metadata": {},
   "source": [
    "Some of the apps, though they consist of English characters, also have symbols or emojis which are outside **[ASCI](https://en.wikipedia.org/wiki/ASCII)** range, therefore we set an additional condition that ***at most `3` characters can be outside of the range***. Although, this condition will still exclude some of the useful apps, it should be more or less effective."
   ]
  },
  {
   "cell_type": "code",
   "execution_count": 20,
   "id": "7d4dd017-3627-4186-a58e-977efa061b25",
   "metadata": {},
   "outputs": [
    {
     "name": "stdout",
     "output_type": "stream",
     "text": [
      "6183\n",
      "9612\n"
     ]
    }
   ],
   "source": [
    "def filter_non_english_android(dataset):\n",
    "    new_dataset = []\n",
    "    for app in dataset[1:]:\n",
    "        name = app[0]\n",
    "        if is_english(name):\n",
    "            new_dataset.append(app)\n",
    "    return new_dataset\n",
    "\n",
    "def filter_non_english_ios(dataset):\n",
    "    new_dataset = []\n",
    "    for app in dataset[1:]:\n",
    "        name = app[1]\n",
    "        if is_english(name):\n",
    "            new_dataset.append(app)\n",
    "    return new_dataset\n",
    "\n",
    "\n",
    "filtered_appstore  = filter_non_english_ios(apps_data_applestore)\n",
    "filtered_googleplay = filter_non_english_android(android_clean)\n",
    "\n",
    "print(len(filtered_appstore))\n",
    "print(len(filtered_googleplay))\n",
    "\n",
    "\n"
   ]
  },
  {
   "cell_type": "markdown",
   "id": "a214112f-a6e9-40b3-b67e-aab03bdea08f",
   "metadata": {},
   "source": [
    "#### Storing only free apps [*](#Table-of-contents)\n",
    "Recall, that the app name in GooglePlay dataset is at `index=0`, whereas in AppStore dataset it is at `index=1`. Do not forget, that we have already cleaned `apps_data_googleplaystore` into `android_clean` by removing the duplicates. For now, we are left with `6183` IOS apps and `9612` Android apps."
   ]
  },
  {
   "cell_type": "code",
   "execution_count": 21,
   "id": "891e6eed-8ea3-4c50-8f9c-56586c376f6f",
   "metadata": {},
   "outputs": [
    {
     "name": "stdout",
     "output_type": "stream",
     "text": [
      "3222\n",
      "8862\n"
     ]
    }
   ],
   "source": [
    "def ios_free(row):\n",
    "        price = float(row[4])\n",
    "        if price > 0:\n",
    "            return False\n",
    "        return True\n",
    "\n",
    "def android_free(row):\n",
    "        free_or_paid = row[6]\n",
    "        if free_or_paid == \"Paid\":\n",
    "            return False\n",
    "        return True\n",
    "\n",
    "def free_appestore_apps(dataset):\n",
    "    free_dataset = []\n",
    "    for app in dataset:\n",
    "        if ios_free(app):\n",
    "            free_dataset.append(app)\n",
    "    return free_dataset\n",
    "\n",
    "def free_googleplay_apps(dataset):\n",
    "    free_dataset = []\n",
    "    for app in dataset:\n",
    "        if android_free(app):\n",
    "            free_dataset.append(app)\n",
    "    return free_dataset\n",
    "\n",
    "appstore_final = free_appestore_apps(filtered_appstore)\n",
    "googleplay_final = free_googleplay_apps(filtered_googleplay)\n",
    "\n",
    "print(len(appstore_final))\n",
    "print(len(googleplay_final))"
   ]
  },
  {
   "cell_type": "markdown",
   "id": "443f6781-e3dc-4a25-9487-9b8d091a4003",
   "metadata": {},
   "source": [
    "The first two functions check whether the app is free or not. For IOS apps, the price is at `index=4`, for Android apps we check the `index=6` rather than `index=7`. `index=6` can either be `Free` or `Paid`. Afterwards, we loop through the two datasets and store only the **free** versions of them."
   ]
  },
  {
   "cell_type": "markdown",
   "id": "b9630cf3-b7dc-41d3-aae9-2a502c3e048e",
   "metadata": {},
   "source": [
    "## Analyzing the data [*](#Table-of-contents)\n",
    "\n",
    "#### The aim [*](#Table-of-contents)\n",
    "The aim of this project is to build apps that will attract as many users as possible to maximize the revenue. \n",
    "To minimize the risks and workload, the strategy will comprise the following points:\n",
    "\n",
    "1. Build an Android version of the app, and add it on Google Play.\n",
    "2. If it is successful, we improve and advance it.\n",
    "3. If it continues delivering good results and responses from people after six months, we build an IOS version of the app.\n",
    "\n",
    "So far we have been cleaning data. Now is the time to start analyzing it by detecting the most common genre types."
   ]
  },
  {
   "cell_type": "markdown",
   "id": "c2fb703b-1fc9-441b-a003-0244edf79910",
   "metadata": {},
   "source": [
    "#### Most common genres [*](#Table-of-contents)\n",
    "Firstly, we need to create a function which will do the following:\n",
    "1. Print the names of genres in the dataset,\n",
    "2. show how the number of apps in each genre\n",
    "3. lastly display the number of genres in total\n",
    "\n",
    "`Genres of datasets` is a test function, fell free to try it out. It accepts two variables: `index` and `dataset` which correspond to the column index and the name of the dataset. The first part stores unique (**not duplicates**) variables in the `storage` dictionary, as well as it displays the number of unique genres in total. The second half calculates the number of times each genre appears in the dataset. Feel free to experiment with the data."
   ]
  },
  {
   "cell_type": "code",
   "execution_count": 22,
   "id": "3f0915f9-3ea1-4a9e-a0c4-475f52c9615b",
   "metadata": {},
   "outputs": [
    {
     "name": "stdout",
     "output_type": "stream",
     "text": [
      "{'ART_AND_DESIGN': 56, 'AUTO_AND_VEHICLES': 82, 'BEAUTY': 53, 'BOOKS_AND_REFERENCE': 190, 'BUSINESS': 407, 'COMICS': 55, 'COMMUNICATION': 287, 'DATING': 165, 'EDUCATION': 103, 'ENTERTAINMENT': 85, 'EVENTS': 63, 'FINANCE': 328, 'FOOD_AND_DRINK': 110, 'HEALTH_AND_FITNESS': 273, 'HOUSE_AND_HOME': 73, 'LIBRARIES_AND_DEMO': 83, 'LIFESTYLE': 346, 'GAME': 862, 'FAMILY': 1675, 'MEDICAL': 313, 'SOCIAL': 236, 'SHOPPING': 199, 'PHOTOGRAPHY': 261, 'SPORTS': 301, 'TRAVEL_AND_LOCAL': 207, 'TOOLS': 750, 'PERSONALIZATION': 294, 'PRODUCTIVITY': 345, 'PARENTING': 58, 'WEATHER': 71, 'VIDEO_PLAYERS': 159, 'NEWS_AND_MAGAZINES': 248, 'MAPS_AND_NAVIGATION': 124}\n",
      "\n",
      "There are 33 genres in the dataset\n",
      "\n",
      "----------------------------------------------------------------------------------------------------\n",
      "\n",
      "{'Social Networking': 106, 'Photo & Video': 160, 'Games': 1874, 'Music': 66, 'Reference': 18, 'Health & Fitness': 65, 'Weather': 28, 'Utilities': 81, 'Travel': 40, 'Shopping': 84, 'News': 43, 'Navigation': 6, 'Lifestyle': 51, 'Entertainment': 254, 'Food & Drink': 26, 'Sports': 69, 'Book': 14, 'Finance': 36, 'Education': 118, 'Productivity': 56, 'Business': 17, 'Catalogs': 4, 'Medical': 6}\n",
      "\n",
      "There are 23 genres in the dataset\n",
      "\n"
     ]
    }
   ],
   "source": [
    "def genres_of_datasets(index, dataset):\n",
    "    duplicate_list = []\n",
    "    storage = {}\n",
    "    count = 0\n",
    "    for app in dataset:\n",
    "        genre = app[index]\n",
    "        storage[genre] = 0\n",
    "        if genre in duplicate_list:\n",
    "            continue\n",
    "        else:\n",
    "            duplicate_list.append(genre)\n",
    "            count += 1\n",
    "\n",
    "    for app in dataset:\n",
    "        genre = app[index]\n",
    "        for genre_name in duplicate_list:\n",
    "            if genre_name == genre:\n",
    "                storage[genre] += 1\n",
    "\n",
    "    print(storage, f\"There are {len(storage)} genres in the dataset\", sep=\"\\n\\n\", end=\"\\n\\n\")\n",
    "    \n",
    "genres_of_datasets(1, googleplay_final)\n",
    "print(\"-\" * 100, end=\"\\n\\n\")\n",
    "genres_of_datasets(11, appstore_final)\n",
    "\n",
    "\n",
    "#appstore index=11\n",
    "#googleplay index=1 and index=9\n",
    "\n"
   ]
  },
  {
   "cell_type": "markdown",
   "id": "3eff203b-1c08-40c6-9237-55527c0367ef",
   "metadata": {},
   "source": [
    "Similar, though changed a bit, we created `freq_table` function from `genres_of_datasets` function. Now our goal is to somehow sort the `storage` dictionary based on keys that have the largest values to find the most common genres. To do that, we made `display_table` function which does the following:\n",
    "\n",
    "1. Uses the `freq_table` function to create a frequency table.\n",
    "2. It converts the `storage` dictionary into a list where each elements is a tuple containing a key with its corresponding value.\n",
    "3. Then it makes use of built-in `sorted` function which will sort the tuples in descending order.\n",
    "4. Lastly, the function prints the genres in `genre : number` format"
   ]
  },
  {
   "cell_type": "code",
   "execution_count": 23,
   "id": "0079e6b2-2198-4ae7-9ab1-1620f37feefb",
   "metadata": {},
   "outputs": [
    {
     "name": "stdout",
     "output_type": "stream",
     "text": [
      "Games : 1874\n",
      "Entertainment : 254\n",
      "Photo & Video : 160\n",
      "Education : 118\n",
      "Social Networking : 106\n",
      "Shopping : 84\n",
      "Utilities : 81\n",
      "Sports : 69\n",
      "Music : 66\n",
      "Health & Fitness : 65\n",
      "Productivity : 56\n",
      "Lifestyle : 51\n",
      "News : 43\n",
      "Travel : 40\n",
      "Finance : 36\n",
      "Weather : 28\n",
      "Food & Drink : 26\n",
      "Reference : 18\n",
      "Business : 17\n",
      "Book : 14\n",
      "Navigation : 6\n",
      "Medical : 6\n",
      "Catalogs : 4\n",
      "\n",
      " ----------------------------------------------------------------------------------------------------\n",
      "\n",
      "FAMILY : 1675\n",
      "GAME : 862\n",
      "TOOLS : 750\n",
      "BUSINESS : 407\n",
      "LIFESTYLE : 346\n",
      "PRODUCTIVITY : 345\n",
      "FINANCE : 328\n",
      "MEDICAL : 313\n",
      "SPORTS : 301\n",
      "PERSONALIZATION : 294\n",
      "COMMUNICATION : 287\n",
      "HEALTH_AND_FITNESS : 273\n",
      "PHOTOGRAPHY : 261\n",
      "NEWS_AND_MAGAZINES : 248\n",
      "SOCIAL : 236\n",
      "TRAVEL_AND_LOCAL : 207\n",
      "SHOPPING : 199\n",
      "BOOKS_AND_REFERENCE : 190\n",
      "DATING : 165\n",
      "VIDEO_PLAYERS : 159\n",
      "MAPS_AND_NAVIGATION : 124\n",
      "FOOD_AND_DRINK : 110\n",
      "EDUCATION : 103\n",
      "ENTERTAINMENT : 85\n",
      "LIBRARIES_AND_DEMO : 83\n",
      "AUTO_AND_VEHICLES : 82\n",
      "HOUSE_AND_HOME : 73\n",
      "WEATHER : 71\n",
      "EVENTS : 63\n",
      "PARENTING : 58\n",
      "ART_AND_DESIGN : 56\n",
      "COMICS : 55\n",
      "BEAUTY : 53\n",
      "\n",
      " ----------------------------------------------------------------------------------------------------\n",
      "\n",
      "Tools : 749\n",
      "Entertainment : 538\n",
      "Education : 474\n",
      "Business : 407\n",
      "Productivity : 345\n",
      "Lifestyle : 345\n",
      "Finance : 328\n",
      "Medical : 313\n",
      "Sports : 307\n",
      "Personalization : 294\n",
      "Communication : 287\n",
      "Action : 275\n",
      "Health & Fitness : 273\n",
      "Photography : 261\n",
      "News & Magazines : 248\n",
      "Social : 236\n",
      "Travel & Local : 206\n",
      "Shopping : 199\n",
      "Books & Reference : 190\n",
      "Simulation : 181\n",
      "Dating : 165\n",
      "Arcade : 164\n",
      "Video Players & Editors : 157\n",
      "Casual : 156\n",
      "Maps & Navigation : 124\n",
      "Food & Drink : 110\n",
      "Puzzle : 100\n",
      "Racing : 88\n",
      "Role Playing : 83\n",
      "Libraries & Demo : 83\n",
      "Auto & Vehicles : 82\n",
      "Strategy : 80\n",
      "House & Home : 73\n",
      "Weather : 71\n",
      "Events : 63\n",
      "Adventure : 60\n",
      "Comics : 54\n",
      "Beauty : 53\n",
      "Art & Design : 52\n",
      "Parenting : 44\n",
      "Card : 40\n",
      "Casino : 38\n",
      "Trivia : 37\n",
      "Educational;Education : 35\n",
      "Board : 34\n",
      "Educational : 33\n",
      "Education;Education : 30\n",
      "Word : 23\n",
      "Casual;Pretend Play : 21\n",
      "Music : 18\n",
      "Racing;Action & Adventure : 15\n",
      "Puzzle;Brain Games : 15\n",
      "Entertainment;Music & Video : 15\n",
      "Casual;Brain Games : 12\n",
      "Casual;Action & Adventure : 12\n",
      "Arcade;Action & Adventure : 11\n",
      "Action;Action & Adventure : 9\n",
      "Educational;Pretend Play : 8\n",
      "Simulation;Action & Adventure : 7\n",
      "Parenting;Education : 7\n",
      "Entertainment;Brain Games : 7\n",
      "Board;Brain Games : 7\n",
      "Parenting;Music & Video : 6\n",
      "Educational;Brain Games : 6\n",
      "Casual;Creativity : 6\n",
      "Art & Design;Creativity : 6\n",
      "Education;Pretend Play : 5\n",
      "Role Playing;Pretend Play : 4\n",
      "Education;Creativity : 4\n",
      "Role Playing;Action & Adventure : 3\n",
      "Puzzle;Action & Adventure : 3\n",
      "Entertainment;Creativity : 3\n",
      "Entertainment;Action & Adventure : 3\n",
      "Educational;Creativity : 3\n",
      "Educational;Action & Adventure : 3\n",
      "Education;Music & Video : 3\n",
      "Education;Brain Games : 3\n",
      "Education;Action & Adventure : 3\n",
      "Adventure;Action & Adventure : 3\n",
      "Video Players & Editors;Music & Video : 2\n",
      "Sports;Action & Adventure : 2\n",
      "Simulation;Pretend Play : 2\n",
      "Puzzle;Creativity : 2\n",
      "Music;Music & Video : 2\n",
      "Entertainment;Pretend Play : 2\n",
      "Casual;Education : 2\n",
      "Board;Action & Adventure : 2\n",
      "Video Players & Editors;Creativity : 1\n",
      "Trivia;Education : 1\n",
      "Travel & Local;Action & Adventure : 1\n",
      "Tools;Education : 1\n",
      "Strategy;Education : 1\n",
      "Strategy;Creativity : 1\n",
      "Strategy;Action & Adventure : 1\n",
      "Simulation;Education : 1\n",
      "Role Playing;Brain Games : 1\n",
      "Racing;Pretend Play : 1\n",
      "Puzzle;Education : 1\n",
      "Parenting;Brain Games : 1\n",
      "Music & Audio;Music & Video : 1\n",
      "Lifestyle;Pretend Play : 1\n",
      "Lifestyle;Education : 1\n",
      "Health & Fitness;Education : 1\n",
      "Health & Fitness;Action & Adventure : 1\n",
      "Entertainment;Education : 1\n",
      "Communication;Creativity : 1\n",
      "Comics;Creativity : 1\n",
      "Casual;Music & Video : 1\n",
      "Card;Action & Adventure : 1\n",
      "Books & Reference;Education : 1\n",
      "Art & Design;Pretend Play : 1\n",
      "Art & Design;Action & Adventure : 1\n",
      "Arcade;Pretend Play : 1\n",
      "Adventure;Education : 1\n"
     ]
    }
   ],
   "source": [
    "def freq_table(dataset, index):\n",
    "    duplicate_list = []\n",
    "    storage = {}\n",
    "    for app in dataset:\n",
    "        genre = app[index]\n",
    "        storage[genre] = 0\n",
    "        if genre in duplicate_list:\n",
    "            continue\n",
    "        else:\n",
    "            duplicate_list.append(genre)\n",
    "\n",
    "    for app in dataset:\n",
    "        genre = app[index]\n",
    "        for i in duplicate_list:\n",
    "            if i == genre:\n",
    "                storage[genre] += 1\n",
    "                \n",
    "    return storage\n",
    "#appstore index=11\n",
    "#googleplay index=1 and index=9\n",
    "\n",
    "\n",
    "def display_table(dataset, index):\n",
    "    table = freq_table(dataset, index)\n",
    "    table_display = []\n",
    "    for key in table:\n",
    "        key_val_as_tuple = (table[key], key)\n",
    "        table_display.append(key_val_as_tuple)\n",
    "\n",
    "    table_sorted = sorted(table_display, reverse = True)\n",
    "    for entry in table_sorted:\n",
    "        print(entry[1], ':', entry[0])\n",
    "\n",
    "display_table(appstore_final, 11)\n",
    "print(\"\\n\", \"-\" * 100, end=\"\\n\\n\")\n",
    "display_table(googleplay_final, 1)\n",
    "print(\"\\n\", \"-\" * 100, end=\"\\n\\n\")\n",
    "display_table(googleplay_final, 9)\n"
   ]
  },
  {
   "cell_type": "markdown",
   "id": "a87176df-12e6-430c-86be-0197bfc8d5b6",
   "metadata": {},
   "source": [
    "Let us analyze the results. We will start with `prime_genre` column (**corresponding to `index=11`**) of the App Store dataset. We can observe that the first few most common app genres are:\n",
    "\n",
    "1. Games\n",
    "3. Entertainment\n",
    "4. Photo & Video\n",
    "5. Education\n",
    "6. Social Networking\n",
    "\n",
    "It can be seen that the vast majority of free English apps are games. There are fewer apps related to health, education, productivity, etc. (basically apps for **practical purposes**) and more apps linked with brining entertainment. One cannot jump to a conclusion that games are the most likely bring the highest revenue as not all of them are successful and there can be apps from other genres that are at least as successful as games. Nevertheless, on average, games can lead to a better start in terms of bringing some revenue than other applications.\n",
    "\n",
    "\n",
    "    \n",
    "Secondly, let us take a look at `Category` and `Genres` columns (**corresponding to `index=1` and `index=11` respectively**) of the Google Play dataset. As with App Store dataset, we can analyze the first few most common categories and genres:\n",
    "\n",
    "For *Categories*:\n",
    "1. Family\n",
    "2. Game\n",
    "3. Tools\n",
    "4. Business\n",
    "5. Lifestyle\n",
    "\n",
    "For *Genres*:\n",
    "1. Tools\n",
    "2. Entertainment\n",
    "3. Education\n",
    "4. Business\n",
    "5. Productivity\n",
    "\n",
    "Here, the picture is a bit different. Apps related to family take the lion's share. Unsurprisingly, the second most common category is games which shows that, no matter the platform, games are popular among users. Interestingly, the most observed genre in Google Play dataset is tools. Rest of the genres follow a similar descending and **balanced** pattern in terms of the numbers ."
   ]
  },
  {
   "cell_type": "markdown",
   "id": "00a58d75-6ef3-48fd-8673-f8be6d39a57f",
   "metadata": {},
   "source": [
    "#### Number of installations [*](#Table-of-contents)\n",
    "So far, we have found the most common genres. This is still incomplete as the app popularity also depends on the number of installations. One way to find out the apps which have the most users is to compute the average number of installs for each app genre. By observing the Google Play data set, we can see that there exists useful information in `Installs` column, but the same cannot be said for App Store dataset. We can, however, use the `rating_count_tot` column as an alternative. \n",
    "The plan is simple, we need to:\n",
    "1. Isolate the apps of each genre.\n",
    "2. Add up the user ratings for the apps of that genre.\n",
    "3. Divide the sum by the number of apps belongiing to that genre."
   ]
  },
  {
   "cell_type": "code",
   "execution_count": 24,
   "id": "1bf0da4c-1697-4fff-a86a-0406705527a2",
   "metadata": {
    "scrolled": true
   },
   "outputs": [
    {
     "name": "stdout",
     "output_type": "stream",
     "text": [
      "Social Networking : 71548.34905660378\n",
      "Photo & Video : 28441.54375\n",
      "Games : 22788.6696905016\n",
      "Music : 57326.530303030304\n",
      "Reference : 74942.11111111111\n",
      "Health & Fitness : 23298.015384615384\n",
      "Weather : 52279.892857142855\n",
      "Utilities : 18684.456790123455\n",
      "Travel : 28243.8\n",
      "Shopping : 26919.690476190477\n",
      "News : 21248.023255813954\n",
      "Navigation : 86090.33333333333\n",
      "Lifestyle : 16485.764705882353\n",
      "Entertainment : 14029.830708661417\n",
      "Food & Drink : 33333.92307692308\n",
      "Sports : 23008.898550724636\n",
      "Book : 39758.5\n",
      "Finance : 31467.944444444445\n",
      "Education : 7003.983050847458\n",
      "Productivity : 21028.410714285714\n",
      "Business : 7491.117647058823\n",
      "Catalogs : 4004.0\n",
      "Medical : 612.0\n"
     ]
    }
   ],
   "source": [
    "appstore_freq_table = freq_table(appstore_final, 11)\n",
    "for genre in appstore_freq_table:\n",
    "    total = 0\n",
    "    len_genre = 0\n",
    "    for app in appstore_final:\n",
    "        genre_app = app[11]\n",
    "        if genre_app == genre:\n",
    "            total += float(app[5])\n",
    "            len_genre += 1\n",
    "    avg_number_of_user_ratings = total / len_genre\n",
    "    print(f\"{genre} : {avg_number_of_user_ratings}\")\n",
    "\n"
   ]
  },
  {
   "cell_type": "markdown",
   "id": "7c48de0a-7599-495b-929c-ca12ca496ecd",
   "metadata": {},
   "source": [
    "By looking at the results, on average *Navigation*, *Reference*, and *Social Networking* apps have the highest number of user ratings. The least rated apps (not by actual ratings, but by the number of ratings) are *Medical* apps."
   ]
  },
  {
   "cell_type": "markdown",
   "id": "01f7be7d-5e12-4829-8835-71ed7db16ccf",
   "metadata": {},
   "source": [
    "Moving on to the Google Play dataset. The issue with the `Installs` column is that the number of installations are open-ended (meaning they are given in e.g. **100+, 1000+, etc** format). We do not know if an app with 10000+ installs has 10000, 40000, or 53948 installs. As we do not have a precise figure, we will rely on the numbers as they are, meaning that if an app has 100000+ installs, we will take them as 100000. "
   ]
  },
  {
   "cell_type": "code",
   "execution_count": 25,
   "id": "bda25a65-55c9-4298-8aa3-9075ef5fbb37",
   "metadata": {},
   "outputs": [
    {
     "name": "stdout",
     "output_type": "stream",
     "text": [
      "ART_AND_DESIGN : 2021626.7857142857\n",
      "AUTO_AND_VEHICLES : 647317.8170731707\n",
      "BEAUTY : 513151.88679245283\n",
      "BOOKS_AND_REFERENCE : 8767811.894736841\n",
      "BUSINESS : 1712290.1474201474\n",
      "COMICS : 817657.2727272727\n",
      "COMMUNICATION : 38456119.167247385\n",
      "DATING : 854028.8303030303\n",
      "EDUCATION : 1833495.145631068\n",
      "ENTERTAINMENT : 11640705.88235294\n",
      "EVENTS : 253542.22222222222\n",
      "FINANCE : 1387692.475609756\n",
      "FOOD_AND_DRINK : 1924897.7363636363\n",
      "HEALTH_AND_FITNESS : 4188821.9853479853\n",
      "HOUSE_AND_HOME : 1331540.5616438356\n",
      "LIBRARIES_AND_DEMO : 638503.734939759\n",
      "LIFESTYLE : 1437816.2687861272\n",
      "GAME : 15588015.603248259\n",
      "FAMILY : 3697848.1731343283\n",
      "MEDICAL : 120550.61980830671\n",
      "SOCIAL : 23253652.127118643\n",
      "SHOPPING : 7036877.311557789\n",
      "PHOTOGRAPHY : 17840110.40229885\n",
      "SPORTS : 3638640.1428571427\n",
      "TRAVEL_AND_LOCAL : 13984077.710144928\n",
      "TOOLS : 10801391.298666667\n",
      "PERSONALIZATION : 5201482.6122448975\n",
      "PRODUCTIVITY : 16787331.344927534\n",
      "PARENTING : 542603.6206896552\n",
      "WEATHER : 5074486.197183099\n",
      "VIDEO_PLAYERS : 24727872.452830188\n",
      "NEWS_AND_MAGAZINES : 9549178.467741935\n",
      "MAPS_AND_NAVIGATION : 4056941.7741935486\n"
     ]
    }
   ],
   "source": [
    "category_freq_table = freq_table(googleplay_final, 1)\n",
    "for category in category_freq_table:\n",
    "    total = 0\n",
    "    len_category = 0\n",
    "    for app in googleplay_final:\n",
    "        category_app = app[1]\n",
    "        if category_app == category:\n",
    "            n_installs = app[5]\n",
    "            n_installs = n_installs.replace(\"+\", \"\")\n",
    "            n_installs = n_installs.replace(\",\", \"\")\n",
    "            total += int(n_installs)\n",
    "            len_category += 1\n",
    "            \n",
    "    avg_category_installs = total / len_category\n",
    "    print(f\"{category} : {avg_category_installs}\")      "
   ]
  },
  {
   "cell_type": "markdown",
   "id": "29f72a7f-1478-4c04-b149-ba6f0de95aa8",
   "metadata": {},
   "source": [
    "On average, communication apps have the most installs: **almost 38 million**. However, this figure is not entirely true not only due to not using precise figures, but also because the data is heavily skewed by apps like *Whatsapp, Facebook, Gmail, Telegram and a few others*. We can illustrate that with the following code."
   ]
  },
  {
   "cell_type": "code",
   "execution_count": 26,
   "id": "8cbb2553-082a-48f0-a590-c0723d5d1df2",
   "metadata": {},
   "outputs": [
    {
     "name": "stdout",
     "output_type": "stream",
     "text": [
      "COMMUNICATION:\n",
      "WhatsApp Messenger : 1,000,000,000+\n",
      "imo beta free calls and text : 100,000,000+\n",
      "Android Messages : 100,000,000+\n",
      "Google Duo - High Quality Video Calls : 500,000,000+\n",
      "Messenger – Text and Video Chat for Free : 1,000,000,000+\n",
      "imo free video calls and chat : 500,000,000+\n",
      "Skype - free IM & video calls : 1,000,000,000+\n",
      "Who : 100,000,000+\n",
      "GO SMS Pro - Messenger, Free Themes, Emoji : 100,000,000+\n",
      "LINE: Free Calls & Messages : 500,000,000+\n",
      "Google Chrome: Fast & Secure : 1,000,000,000+\n",
      "Firefox Browser fast & private : 100,000,000+\n",
      "UC Browser - Fast Download Private & Secure : 500,000,000+\n",
      "Gmail : 1,000,000,000+\n",
      "Hangouts : 1,000,000,000+\n",
      "Messenger Lite: Free Calls & Messages : 100,000,000+\n",
      "Kik : 100,000,000+\n",
      "KakaoTalk: Free Calls & Text : 100,000,000+\n",
      "Opera Mini - fast web browser : 100,000,000+\n",
      "Opera Browser: Fast and Secure : 100,000,000+\n",
      "Telegram : 100,000,000+\n",
      "Truecaller: Caller ID, SMS spam blocking & Dialer : 100,000,000+\n",
      "UC Browser Mini -Tiny Fast Private & Secure : 100,000,000+\n",
      "Viber Messenger : 500,000,000+\n",
      "WeChat : 100,000,000+\n",
      "Yahoo Mail – Stay Organized : 100,000,000+\n",
      "BBM - Free Calls & Messages : 100,000,000+\n",
      "\n",
      " ----------------------------------------------------------------------------------------------------\n",
      "\n",
      "PHOTOGRAPHY:\n",
      "B612 - Beauty & Filter Camera : 100,000,000+\n",
      "YouCam Makeup - Magic Selfie Makeovers : 100,000,000+\n",
      "Sweet Selfie - selfie camera, beauty cam, photo edit : 100,000,000+\n",
      "Google Photos : 1,000,000,000+\n",
      "Retrica : 100,000,000+\n",
      "Photo Editor Pro : 100,000,000+\n",
      "BeautyPlus - Easy Photo Editor & Selfie Camera : 100,000,000+\n",
      "PicsArt Photo Studio: Collage Maker & Pic Editor : 100,000,000+\n",
      "Photo Collage Editor : 100,000,000+\n",
      "Z Camera - Photo Editor, Beauty Selfie, Collage : 100,000,000+\n",
      "PhotoGrid: Video & Pic Collage Maker, Photo Editor : 100,000,000+\n",
      "Candy Camera - selfie, beauty camera, photo editor : 100,000,000+\n",
      "YouCam Perfect - Selfie Photo Editor : 100,000,000+\n",
      "Camera360: Selfie Photo Editor with Funny Sticker : 100,000,000+\n",
      "S Photo Editor - Collage Maker , Photo Collage : 100,000,000+\n",
      "AR effect : 100,000,000+\n",
      "Cymera Camera- Photo Editor, Filter,Collage,Layout : 100,000,000+\n",
      "LINE Camera - Photo editor : 100,000,000+\n",
      "Photo Editor Collage Maker Pro : 100,000,000+\n",
      "\n",
      " ----------------------------------------------------------------------------------------------------\n",
      "\n",
      "VIDEO_PLAYERS:\n",
      "YouTube : 1,000,000,000+\n",
      "Motorola Gallery : 100,000,000+\n",
      "VLC for Android : 100,000,000+\n",
      "Google Play Movies & TV : 1,000,000,000+\n",
      "MX Player : 500,000,000+\n",
      "Dubsmash : 100,000,000+\n",
      "VivaVideo - Video Editor & Photo Movie : 100,000,000+\n",
      "VideoShow-Video Editor, Video Maker, Beauty Camera : 100,000,000+\n",
      "Motorola FM Radio : 100,000,000+\n",
      "\n",
      " ----------------------------------------------------------------------------------------------------\n",
      "\n",
      "PRODUCTIVITY:\n",
      "Microsoft Word : 500,000,000+\n",
      "Microsoft Outlook : 100,000,000+\n",
      "Microsoft OneDrive : 100,000,000+\n",
      "Microsoft OneNote : 100,000,000+\n",
      "Google Keep : 100,000,000+\n",
      "ES File Explorer File Manager : 100,000,000+\n",
      "Dropbox : 500,000,000+\n",
      "Google Docs : 100,000,000+\n",
      "Microsoft PowerPoint : 100,000,000+\n",
      "Samsung Notes : 100,000,000+\n",
      "SwiftKey Keyboard : 100,000,000+\n",
      "Google Drive : 1,000,000,000+\n",
      "Adobe Acrobat Reader : 100,000,000+\n",
      "Google Sheets : 100,000,000+\n",
      "Microsoft Excel : 100,000,000+\n",
      "WPS Office - Word, Docs, PDF, Note, Slide & Sheet : 100,000,000+\n",
      "Google Slides : 100,000,000+\n",
      "ColorNote Notepad Notes : 100,000,000+\n",
      "Evernote – Organizer, Planner for Notes & Memos : 100,000,000+\n",
      "Google Calendar : 500,000,000+\n",
      "Cloud Print : 500,000,000+\n",
      "CamScanner - Phone PDF Creator : 100,000,000+\n"
     ]
    }
   ],
   "source": [
    "def num_install_in_category(category, dataset):\n",
    "    print(category + \":\")\n",
    "    for app in dataset:\n",
    "        category_name = app[1]\n",
    "        downloads = app[5]\n",
    "        app_name = app[0]\n",
    "        if category_name == category and (downloads == \"1,000,000,000+\" or downloads == \"500,000,000+\" or downloads == \"100,000,000+\"):\n",
    "            print(f\"{app_name} : {downloads}\")\n",
    "        #1,000,000,000+, 500,000,000+, 100,000,000+ three largest possible values\n",
    "\n",
    "num_install_in_category(\"COMMUNICATION\", googleplay_final)\n",
    "print(\"\\n\", \"-\" * 100, end=\"\\n\\n\")\n",
    "num_install_in_category(\"PHOTOGRAPHY\", googleplay_final)\n",
    "print(\"\\n\", \"-\" * 100, end=\"\\n\\n\")\n",
    "num_install_in_category(\"VIDEO_PLAYERS\", googleplay_final)\n",
    "print(\"\\n\", \"-\" * 100, end=\"\\n\\n\")\n",
    "num_install_in_category(\"PRODUCTIVITY\", googleplay_final)\n"
   ]
  },
  {
   "cell_type": "markdown",
   "id": "ced461f9-70a6-4c33-9b76-fa8d31fdc9f6",
   "metadata": {},
   "source": [
    "If we remove these apps from the list, the average number of installations will be much smaller. The same pattern can be observed *productivity, photography or video players*. Let us take a look at categories that might not be heavily dominated by *app giants* or at least not by many of them."
   ]
  },
  {
   "cell_type": "code",
   "execution_count": 27,
   "id": "913a9eea-14b2-4f85-9408-169a10c10909",
   "metadata": {},
   "outputs": [
    {
     "name": "stdout",
     "output_type": "stream",
     "text": [
      "['ART_AND_DESIGN', 'AUTO_AND_VEHICLES', 'BEAUTY', 'BOOKS_AND_REFERENCE', 'BUSINESS', 'COMICS', 'COMMUNICATION', 'DATING', 'EDUCATION', 'ENTERTAINMENT', 'EVENTS', 'FINANCE', 'FOOD_AND_DRINK', 'HEALTH_AND_FITNESS', 'HOUSE_AND_HOME', 'LIBRARIES_AND_DEMO', 'LIFESTYLE', 'GAME', 'FAMILY', 'MEDICAL', 'SOCIAL', 'SHOPPING', 'PHOTOGRAPHY', 'SPORTS', 'TRAVEL_AND_LOCAL', 'TOOLS', 'PERSONALIZATION', 'PRODUCTIVITY', 'PARENTING', 'WEATHER', 'VIDEO_PLAYERS', 'NEWS_AND_MAGAZINES', 'MAPS_AND_NAVIGATION']\n",
      "ART_AND_DESIGN:\n",
      "\n",
      " ----------------------------------------------------------------------------------------------------\n",
      "\n",
      "AUTO_AND_VEHICLES:\n",
      "\n",
      " ----------------------------------------------------------------------------------------------------\n",
      "\n",
      "BEAUTY:\n",
      "\n",
      " ----------------------------------------------------------------------------------------------------\n",
      "\n",
      "BOOKS_AND_REFERENCE:\n",
      "Google Play Books : 1,000,000,000+\n",
      "Bible : 100,000,000+\n",
      "Amazon Kindle : 100,000,000+\n",
      "Wattpad 📖 Free Books : 100,000,000+\n",
      "Audiobooks from Audible : 100,000,000+\n",
      "\n",
      " ----------------------------------------------------------------------------------------------------\n",
      "\n",
      "BUSINESS:\n",
      "OfficeSuite : Free Office + PDF Editor : 100,000,000+\n",
      "File Commander - File Manager/Explorer : 100,000,000+\n",
      "\n",
      " ----------------------------------------------------------------------------------------------------\n",
      "\n",
      "COMICS:\n",
      "\n",
      " ----------------------------------------------------------------------------------------------------\n",
      "\n",
      "COMMUNICATION:\n",
      "WhatsApp Messenger : 1,000,000,000+\n",
      "imo beta free calls and text : 100,000,000+\n",
      "Android Messages : 100,000,000+\n",
      "Google Duo - High Quality Video Calls : 500,000,000+\n",
      "Messenger – Text and Video Chat for Free : 1,000,000,000+\n",
      "imo free video calls and chat : 500,000,000+\n",
      "Skype - free IM & video calls : 1,000,000,000+\n",
      "Who : 100,000,000+\n",
      "GO SMS Pro - Messenger, Free Themes, Emoji : 100,000,000+\n",
      "LINE: Free Calls & Messages : 500,000,000+\n",
      "Google Chrome: Fast & Secure : 1,000,000,000+\n",
      "Firefox Browser fast & private : 100,000,000+\n",
      "UC Browser - Fast Download Private & Secure : 500,000,000+\n",
      "Gmail : 1,000,000,000+\n",
      "Hangouts : 1,000,000,000+\n",
      "Messenger Lite: Free Calls & Messages : 100,000,000+\n",
      "Kik : 100,000,000+\n",
      "KakaoTalk: Free Calls & Text : 100,000,000+\n",
      "Opera Mini - fast web browser : 100,000,000+\n",
      "Opera Browser: Fast and Secure : 100,000,000+\n",
      "Telegram : 100,000,000+\n",
      "Truecaller: Caller ID, SMS spam blocking & Dialer : 100,000,000+\n",
      "UC Browser Mini -Tiny Fast Private & Secure : 100,000,000+\n",
      "Viber Messenger : 500,000,000+\n",
      "WeChat : 100,000,000+\n",
      "Yahoo Mail – Stay Organized : 100,000,000+\n",
      "BBM - Free Calls & Messages : 100,000,000+\n",
      "\n",
      " ----------------------------------------------------------------------------------------------------\n",
      "\n",
      "DATING:\n",
      "\n",
      " ----------------------------------------------------------------------------------------------------\n",
      "\n",
      "EDUCATION:\n",
      "\n",
      " ----------------------------------------------------------------------------------------------------\n",
      "\n",
      "ENTERTAINMENT:\n",
      "Hotstar : 100,000,000+\n",
      "Talking Angela : 100,000,000+\n",
      "IMDb Movies & TV : 100,000,000+\n",
      "Talking Ben the Dog : 100,000,000+\n",
      "Netflix : 100,000,000+\n",
      "\n",
      " ----------------------------------------------------------------------------------------------------\n",
      "\n",
      "EVENTS:\n",
      "\n",
      " ----------------------------------------------------------------------------------------------------\n",
      "\n",
      "FINANCE:\n",
      "Google Pay : 100,000,000+\n",
      "\n",
      " ----------------------------------------------------------------------------------------------------\n",
      "\n",
      "FOOD_AND_DRINK:\n",
      "\n",
      " ----------------------------------------------------------------------------------------------------\n",
      "\n",
      "HEALTH_AND_FITNESS:\n",
      "Period Tracker - Period Calendar Ovulation Tracker : 100,000,000+\n",
      "Samsung Health : 500,000,000+\n",
      "\n",
      " ----------------------------------------------------------------------------------------------------\n",
      "\n",
      "HOUSE_AND_HOME:\n",
      "\n",
      " ----------------------------------------------------------------------------------------------------\n",
      "\n",
      "LIBRARIES_AND_DEMO:\n",
      "\n",
      " ----------------------------------------------------------------------------------------------------\n",
      "\n",
      "LIFESTYLE:\n",
      "Tinder : 100,000,000+\n",
      "\n",
      " ----------------------------------------------------------------------------------------------------\n",
      "\n",
      "GAME:\n",
      "Sonic Dash : 100,000,000+\n",
      "PAC-MAN : 100,000,000+\n",
      "Roll the Ball® - slide puzzle : 100,000,000+\n",
      "Piano Tiles 2™ : 100,000,000+\n",
      "Pokémon GO : 100,000,000+\n",
      "Extreme Car Driving Simulator : 100,000,000+\n",
      "Trivia Crack : 100,000,000+\n",
      "Angry Birds 2 : 100,000,000+\n",
      "Candy Crush Saga : 500,000,000+\n",
      "8 Ball Pool : 100,000,000+\n",
      "Subway Surfers : 1,000,000,000+\n",
      "Candy Crush Soda Saga : 100,000,000+\n",
      "Clash Royale : 100,000,000+\n",
      "Clash of Clans : 100,000,000+\n",
      "Plants vs. Zombies FREE : 100,000,000+\n",
      "Pou : 500,000,000+\n",
      "Flow Free : 100,000,000+\n",
      "My Talking Angela : 100,000,000+\n",
      "slither.io : 100,000,000+\n",
      "Cooking Fever : 100,000,000+\n",
      "Yes day : 100,000,000+\n",
      "Score! Hero : 100,000,000+\n",
      "Dream League Soccer 2018 : 100,000,000+\n",
      "My Talking Tom : 500,000,000+\n",
      "Sniper 3D Gun Shooter: Free Shooting Games - FPS : 100,000,000+\n",
      "Zombie Tsunami : 100,000,000+\n",
      "Helix Jump : 100,000,000+\n",
      "Crossy Road : 100,000,000+\n",
      "Temple Run 2 : 500,000,000+\n",
      "Talking Tom Gold Run : 100,000,000+\n",
      "Agar.io : 100,000,000+\n",
      "Bus Rush: Subway Edition : 100,000,000+\n",
      "Traffic Racer : 100,000,000+\n",
      "Hill Climb Racing : 100,000,000+\n",
      "Angry Birds Rio : 100,000,000+\n",
      "Cut the Rope FULL FREE : 100,000,000+\n",
      "Hungry Shark Evolution : 100,000,000+\n",
      "Angry Birds Classic : 100,000,000+\n",
      "Hill Climb Racing 2 : 100,000,000+\n",
      "Jetpack Joyride : 100,000,000+\n",
      "Super Mario Run : 100,000,000+\n",
      "Glow Hockey : 100,000,000+\n",
      "Asphalt 8: Airborne : 100,000,000+\n",
      "Lep's World 2 🍀🍀 : 100,000,000+\n",
      "Fruit Ninja® : 100,000,000+\n",
      "Vector : 100,000,000+\n",
      "Dr. Driving : 100,000,000+\n",
      "Bike Race Free - Top Motorcycle Racing Games : 100,000,000+\n",
      "Smash Hit : 100,000,000+\n",
      "Temple Run : 100,000,000+\n",
      "Geometry Dash Lite : 100,000,000+\n",
      "Ant Smasher by Best Cool & Fun Games : 100,000,000+\n",
      "Angry Birds Star Wars : 100,000,000+\n",
      "Mobile Legends: Bang Bang : 100,000,000+\n",
      "Banana Kong : 100,000,000+\n",
      "Skater Boy : 100,000,000+\n",
      "Shadow Fight 2 : 100,000,000+\n",
      "Modern Combat 5: eSports FPS : 100,000,000+\n",
      "Garena Free Fire : 100,000,000+\n",
      "\n",
      " ----------------------------------------------------------------------------------------------------\n",
      "\n",
      "FAMILY:\n",
      "Minion Rush: Despicable Me Official Game : 100,000,000+\n",
      "ROBLOX : 100,000,000+\n",
      "Hay Day : 100,000,000+\n",
      "Talking Tom Cat 2 : 100,000,000+\n",
      "Talking Ginger : 100,000,000+\n",
      "Where's My Water? Free : 100,000,000+\n",
      "Talking Tom Cat : 100,000,000+\n",
      "Tom Loves Angela : 100,000,000+\n",
      "Talking Tom & Ben News : 100,000,000+\n",
      "Google Play Games : 1,000,000,000+\n",
      "Bitmoji – Your Personal Emoji : 100,000,000+\n",
      "Bubble Witch 2 Saga : 100,000,000+\n",
      "Duolingo: Learn Languages Free : 100,000,000+\n",
      "Farm Heroes Saga : 100,000,000+\n",
      "\n",
      " ----------------------------------------------------------------------------------------------------\n",
      "\n",
      "MEDICAL:\n",
      "\n",
      " ----------------------------------------------------------------------------------------------------\n",
      "\n",
      "SOCIAL:\n",
      "Facebook : 1,000,000,000+\n",
      "Facebook Lite : 500,000,000+\n",
      "Tumblr : 100,000,000+\n",
      "Pinterest : 100,000,000+\n",
      "Google+ : 1,000,000,000+\n",
      "Badoo - Free Chat & Dating App : 100,000,000+\n",
      "Tango - Live Video Broadcast : 100,000,000+\n",
      "Instagram : 1,000,000,000+\n",
      "Snapchat : 500,000,000+\n",
      "LinkedIn : 100,000,000+\n",
      "Tik Tok - including musical.ly : 100,000,000+\n",
      "BIGO LIVE - Live Stream : 100,000,000+\n",
      "VK : 100,000,000+\n",
      "\n",
      " ----------------------------------------------------------------------------------------------------\n",
      "\n",
      "SHOPPING:\n",
      "eBay: Buy & Sell this Summer - Discover Deals Now! : 100,000,000+\n",
      "Amazon Shopping : 100,000,000+\n",
      "Flipkart Online Shopping App : 100,000,000+\n",
      "AliExpress - Smarter Shopping, Better Living : 100,000,000+\n",
      "Wish - Shopping Made Fun : 100,000,000+\n",
      "\n",
      " ----------------------------------------------------------------------------------------------------\n",
      "\n",
      "PHOTOGRAPHY:\n",
      "B612 - Beauty & Filter Camera : 100,000,000+\n",
      "YouCam Makeup - Magic Selfie Makeovers : 100,000,000+\n",
      "Sweet Selfie - selfie camera, beauty cam, photo edit : 100,000,000+\n",
      "Google Photos : 1,000,000,000+\n",
      "Retrica : 100,000,000+\n",
      "Photo Editor Pro : 100,000,000+\n",
      "BeautyPlus - Easy Photo Editor & Selfie Camera : 100,000,000+\n",
      "PicsArt Photo Studio: Collage Maker & Pic Editor : 100,000,000+\n",
      "Photo Collage Editor : 100,000,000+\n",
      "Z Camera - Photo Editor, Beauty Selfie, Collage : 100,000,000+\n",
      "PhotoGrid: Video & Pic Collage Maker, Photo Editor : 100,000,000+\n",
      "Candy Camera - selfie, beauty camera, photo editor : 100,000,000+\n",
      "YouCam Perfect - Selfie Photo Editor : 100,000,000+\n",
      "Camera360: Selfie Photo Editor with Funny Sticker : 100,000,000+\n",
      "S Photo Editor - Collage Maker , Photo Collage : 100,000,000+\n",
      "AR effect : 100,000,000+\n",
      "Cymera Camera- Photo Editor, Filter,Collage,Layout : 100,000,000+\n",
      "LINE Camera - Photo editor : 100,000,000+\n",
      "Photo Editor Collage Maker Pro : 100,000,000+\n",
      "\n",
      " ----------------------------------------------------------------------------------------------------\n",
      "\n",
      "SPORTS:\n",
      "3D Bowling : 100,000,000+\n",
      "FIFA Soccer : 100,000,000+\n",
      "\n",
      " ----------------------------------------------------------------------------------------------------\n",
      "\n",
      "TRAVEL_AND_LOCAL:\n",
      "Booking.com Travel Deals : 100,000,000+\n",
      "TripAdvisor Hotels Flights Restaurants Attractions : 100,000,000+\n",
      "Maps - Navigate & Explore : 1,000,000,000+\n",
      "Google Street View : 1,000,000,000+\n",
      "Google Earth : 100,000,000+\n",
      "\n",
      " ----------------------------------------------------------------------------------------------------\n",
      "\n",
      "TOOLS:\n",
      "Google : 1,000,000,000+\n",
      "Google Translate : 500,000,000+\n",
      "Calculator : 100,000,000+\n",
      "Device Help : 100,000,000+\n",
      "Account Manager : 100,000,000+\n",
      "SHAREit - Transfer & Share : 500,000,000+\n",
      "Samsung Calculator : 100,000,000+\n",
      "Gboard - the Google Keyboard : 500,000,000+\n",
      "Google Korean Input : 100,000,000+\n",
      "Share Music & Transfer Files - Xender : 100,000,000+\n",
      "Tiny Flashlight + LED : 100,000,000+\n",
      "GO Keyboard - Cute Emojis, Themes and GIFs : 100,000,000+\n",
      "Speedtest by Ookla : 100,000,000+\n",
      "CM Locker - Security Lockscreen : 100,000,000+\n",
      "Applock : 100,000,000+\n",
      "Clean Master- Space Cleaner & Antivirus : 500,000,000+\n",
      "Lookout Security & Antivirus : 100,000,000+\n",
      "Google Now Launcher : 100,000,000+\n",
      "360 Security - Free Antivirus, Booster, Cleaner : 100,000,000+\n",
      "Samsung Smart Switch Mobile : 100,000,000+\n",
      "Avast Mobile Security 2018 - Antivirus & App Lock : 100,000,000+\n",
      "AppLock : 100,000,000+\n",
      "AVG AntiVirus 2018 for Android Security : 100,000,000+\n",
      "Security Master - Antivirus, VPN, AppLock, Booster : 500,000,000+\n",
      "Battery Doctor-Battery Life Saver & Battery Cooler : 100,000,000+\n",
      "Automatic Call Recorder : 100,000,000+\n",
      "Anti-virus Dr.Web Light : 100,000,000+\n",
      "Cache Cleaner-DU Speed Booster (booster & cleaner) : 100,000,000+\n",
      "DU Battery Saver - Battery Charger & Battery Life : 100,000,000+\n",
      "\n",
      " ----------------------------------------------------------------------------------------------------\n",
      "\n",
      "PERSONALIZATION:\n",
      "ZEDGE™ Ringtones & Wallpapers : 100,000,000+\n",
      "CM Launcher 3D - Theme, Wallpapers, Efficient : 100,000,000+\n",
      "APUS Launcher - Theme, Wallpaper, Hide Apps : 100,000,000+\n",
      "Hola Launcher- Theme,Wallpaper : 100,000,000+\n",
      "Backgrounds HD (Wallpapers) : 100,000,000+\n",
      "GO Keyboard - Emoticon keyboard, Free Theme, GIF : 100,000,000+\n",
      "Parallel Space - Multiple accounts & Two face : 100,000,000+\n",
      "GO Launcher - 3D parallax Themes & HD Wallpapers : 100,000,000+\n",
      "\n",
      " ----------------------------------------------------------------------------------------------------\n",
      "\n",
      "PRODUCTIVITY:\n",
      "Microsoft Word : 500,000,000+\n",
      "Microsoft Outlook : 100,000,000+\n",
      "Microsoft OneDrive : 100,000,000+\n",
      "Microsoft OneNote : 100,000,000+\n",
      "Google Keep : 100,000,000+\n",
      "ES File Explorer File Manager : 100,000,000+\n",
      "Dropbox : 500,000,000+\n",
      "Google Docs : 100,000,000+\n",
      "Microsoft PowerPoint : 100,000,000+\n",
      "Samsung Notes : 100,000,000+\n",
      "SwiftKey Keyboard : 100,000,000+\n",
      "Google Drive : 1,000,000,000+\n",
      "Adobe Acrobat Reader : 100,000,000+\n",
      "Google Sheets : 100,000,000+\n",
      "Microsoft Excel : 100,000,000+\n",
      "WPS Office - Word, Docs, PDF, Note, Slide & Sheet : 100,000,000+\n",
      "Google Slides : 100,000,000+\n",
      "ColorNote Notepad Notes : 100,000,000+\n",
      "Evernote – Organizer, Planner for Notes & Memos : 100,000,000+\n",
      "Google Calendar : 500,000,000+\n",
      "Cloud Print : 500,000,000+\n",
      "CamScanner - Phone PDF Creator : 100,000,000+\n",
      "\n",
      " ----------------------------------------------------------------------------------------------------\n",
      "\n",
      "PARENTING:\n",
      "\n",
      " ----------------------------------------------------------------------------------------------------\n",
      "\n",
      "WEATHER:\n",
      "\n",
      " ----------------------------------------------------------------------------------------------------\n",
      "\n",
      "VIDEO_PLAYERS:\n",
      "YouTube : 1,000,000,000+\n",
      "Motorola Gallery : 100,000,000+\n",
      "VLC for Android : 100,000,000+\n",
      "Google Play Movies & TV : 1,000,000,000+\n",
      "MX Player : 500,000,000+\n",
      "Dubsmash : 100,000,000+\n",
      "VivaVideo - Video Editor & Photo Movie : 100,000,000+\n",
      "VideoShow-Video Editor, Video Maker, Beauty Camera : 100,000,000+\n",
      "Motorola FM Radio : 100,000,000+\n",
      "\n",
      " ----------------------------------------------------------------------------------------------------\n",
      "\n",
      "NEWS_AND_MAGAZINES:\n",
      "Twitter : 500,000,000+\n",
      "Flipboard: News For Our Time : 500,000,000+\n",
      "Google News : 1,000,000,000+\n",
      "\n",
      " ----------------------------------------------------------------------------------------------------\n",
      "\n",
      "MAPS_AND_NAVIGATION:\n",
      "Waze - GPS, Maps, Traffic Alerts & Live Navigation : 100,000,000+\n",
      "Uber : 100,000,000+\n",
      "\n",
      " ----------------------------------------------------------------------------------------------------\n",
      "\n"
     ]
    }
   ],
   "source": [
    "category_list = []\n",
    "for app in googleplay_final:\n",
    "    category = app[1]\n",
    "    if category not in category_list:\n",
    "        category_list.append(category)\n",
    "\n",
    "print(category_list)\n",
    "\n",
    "for category in category_list:\n",
    "    num_install_in_category(category, googleplay_final)\n",
    "    print(\"\\n\", \"-\" * 100, end=\"\\n\\n\")"
   ]
  },
  {
   "cell_type": "markdown",
   "id": "b32bfe79-e73b-4ff9-9662-1836628dddf4",
   "metadata": {},
   "source": [
    "#### Choosing an app [*](#Table-of-contents)\n",
    "The `GAME`genre seems interesting, but it will be hard competing in the gamy industry. We could look at `PERSONALIZATION`, `PHOTOGRAPHY` or `BOOKS_AND_REFERENCE` apps. One proposal could be to make an application about Bible and add more features to attract as many users as possible (such as online prayers, daily verses and proverbs, etc.). We could also propose to make an application similar to CapCut or PicsArt but this seems a more arduous task. Developing a wallpaper app is also an alternative though making quality pictures is going to cost a lot of resources."
   ]
  },
  {
   "cell_type": "markdown",
   "id": "bf92267b-5972-4595-a783-ed4e545ef9a7",
   "metadata": {},
   "source": [
    "# Conclusions [*](#Table-of-contents)\n",
    "In this project, we cleaned and analyzed data with the goal of recommending an application that can be profitable in Google Play and App Store. We decided that our main focus is going to be applications from these categories: **Personalization, books and reference, and photography**. It is up to you to decide in which direction you wish to go, but I hope this project was helpful and interesting to follow!"
   ]
  }
 ],
 "metadata": {
  "kernelspec": {
   "display_name": "Python 3",
   "language": "python",
   "name": "python3"
  },
  "language_info": {
   "codemirror_mode": {
    "name": "ipython",
    "version": 3
   },
   "file_extension": ".py",
   "mimetype": "text/x-python",
   "name": "python",
   "nbconvert_exporter": "python",
   "pygments_lexer": "ipython3",
   "version": "3.11.4"
  }
 },
 "nbformat": 4,
 "nbformat_minor": 5
}
